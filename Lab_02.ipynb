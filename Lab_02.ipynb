{
 "cells": [
  {
   "cell_type": "markdown",
   "metadata": {},
   "source": [
    "### Q1. Implement a function that counts the number of times a string occurs in another string."
   ]
  },
  {
   "cell_type": "code",
   "execution_count": 35,
   "metadata": {},
   "outputs": [
    {
     "name": "stdout",
     "output_type": "stream",
     "text": [
      "3\n"
     ]
    }
   ],
   "source": [
    "def stringCount(sentence,find):\n",
    "    count = sentence.count(find)\n",
    "    return count\n",
    "\n",
    "sentence = \"A boy named jack is a good boy, jack used to go to school daily, jack does all his homework\"\n",
    "find = \"jack\"\n",
    "\n",
    "print(stringCount(sentence,find))\n",
    "    "
   ]
  },
  {
   "cell_type": "markdown",
   "metadata": {},
   "source": [
    "### Q2. Implement a recursive function that counts the number of times a string occurs in another string."
   ]
  },
  {
   "cell_type": "code",
   "execution_count": 42,
   "metadata": {},
   "outputs": [
    {
     "name": "stdout",
     "output_type": "stream",
     "text": [
      "3\n"
     ]
    }
   ],
   "source": [
    "def stringCount(sentence,find,len_sent,len_find):\n",
    "    \n",
    "    #if sentence and finding string length is 0 OR finding string length is 0 return 1\n",
    "    if ((len_sent == 0 and len_find == 0) or len_find == 0):\n",
    "        return 1\n",
    "    \n",
    "    #if sentence length is 0 return 0\n",
    "    if (len_sent == 0):\n",
    "        return 0\n",
    "    \n",
    "    if (sentence[len_sent-1] == find[len_find-1]):\n",
    "        return (stringCount(sentence,find,len_sent-1,len_find-1) + stringCount(sentence,find,len_sent-1,len_find))\n",
    "    \n",
    "    else:\n",
    "        return stringCount(sentence,find,len_sent-1,len_find)\n",
    "    \n",
    "\n",
    "sentence = \"hello world hello\"\n",
    "find = \"he\"\n",
    "\n",
    "print(stringCount(sentence,find,len(sentence),len(find)))"
   ]
  },
  {
   "cell_type": "markdown",
   "metadata": {},
   "source": [
    "### Q3. Implement depth first search algorithm in Python using recursion or iteration."
   ]
  },
  {
   "cell_type": "code",
   "execution_count": 17,
   "metadata": {},
   "outputs": [
    {
     "name": "stdout",
     "output_type": "stream",
     "text": [
      "['A', 'C', 'F', 'E', 'B', 'D']\n"
     ]
    }
   ],
   "source": [
    "graph1 = {\n",
    "    'A': set(['B','C']),\n",
    "    'B': set(['A','D','E']),\n",
    "    'C': set(['A','F']),\n",
    "    'D': set(['B']),\n",
    "    'E': set(['B','F']),\n",
    "    'F': set(['C','E'])\n",
    "}\n",
    "\n",
    "graph2 = {\n",
    "    '0': set(['1','2']),\n",
    "    '1': set(['0','3','4']),\n",
    "    '2': set(['0','4']),\n",
    "    '3': set(['1','5']),\n",
    "    '4': set(['2','5']),\n",
    "    '5': set(['4'])\n",
    "}\n",
    "\n",
    "def dfs(graph, node, visited):\n",
    "    if node not in visited:\n",
    "        visited.append(node)\n",
    "        for n in graph[node]:\n",
    "            dfs(graph,n,visited)\n",
    "        return visited\n",
    "    \n",
    "visited = dfs(graph1, 'A', [])\n",
    "print(visited)"
   ]
  },
  {
   "cell_type": "markdown",
   "metadata": {},
   "source": [
    "### Q4.  Implement breadth first search algorithm in Python using recursion or iteration."
   ]
  },
  {
   "cell_type": "code",
   "execution_count": 25,
   "metadata": {},
   "outputs": [
    {
     "name": "stdout",
     "output_type": "stream",
     "text": [
      "A, C, B, F, D, E, "
     ]
    }
   ],
   "source": [
    "graph = {\n",
    "    'A': set(['B','C']),\n",
    "    'B': set(['A','D','E']),\n",
    "    'C': set(['A','F']),\n",
    "    'D': set(['B']),\n",
    "    'E': set(['B','F']),\n",
    "    'F': set(['C','E'])\n",
    "}\n",
    "\n",
    "visited = []\n",
    "queue = []\n",
    "\n",
    "def bfs(visited, graph, node):\n",
    "    visited.append(node)\n",
    "    queue.append(node)\n",
    "    \n",
    "    while queue:\n",
    "        s = queue.pop(0)\n",
    "        print (s, end = \", \")\n",
    "        \n",
    "        for neighbour in graph[s]:\n",
    "            if neighbour not in visited:\n",
    "                visited.append(neighbour)\n",
    "                queue.append(neighbour)\n",
    "                \n",
    "bfs(visited,graph, 'A')"
   ]
  },
  {
   "cell_type": "markdown",
   "metadata": {},
   "source": [
    "## Home Assignment\n",
    "### TASK: Help Pacman to navigate from a start state (1,1) to a goal state (2,3) as shown in the illustration above. Implement through DFS for the win. If the code is run by passing in the graph from above, a starting state of (1,1) and a goal state of (2,3) our DFS algorithm returns the path [(1,2), (2,2), (2,3)] and with that, our little Pacman is a happy camper!"
   ]
  },
  {
   "cell_type": "code",
   "execution_count": 27,
   "metadata": {},
   "outputs": [
    {
     "name": "stdout",
     "output_type": "stream",
     "text": [
      "[(1, 2), (2, 2), (2, 3)]\n"
     ]
    }
   ],
   "source": [
    "from queue import PriorityQueue\n",
    "\n",
    "graph = {\n",
    "        (1,1): set([(1,2), (2,1)]),\n",
    "        (1,2): set([(2,2), (1,3)]),\n",
    "        (1,3): set([(1,4), (1,2)]),\n",
    "        (1,4): set([(1,3), (2,4)]),\n",
    "        (2,1): set([(1,1), (1,3)]),\n",
    "        (2,2): set([(2,3), (1,2)]),\n",
    "        (2,3): set([(2,2)]),\n",
    "        (2,4): set([(1,4), (3,4)]),\n",
    "        (3,1): set([(2,1), (3,2)]),\n",
    "        (3,2): set([(3,1), (3,3)]),\n",
    "        (3,3): set([(3,2), (3,4)]),\n",
    "        (3,4): set([(2,4), (3,3)]),\n",
    "}\n",
    "\n",
    "\n",
    "def dfs(graph, start, goal):\n",
    "    visited = []\n",
    "    path = []\n",
    "    fringe = PriorityQueue()\n",
    "    fringe.put((0, start, path, visited))\n",
    "\n",
    "    while not fringe.empty():\n",
    "        depth, current_node, path, visited = fringe.get()\n",
    "\n",
    "        if current_node == goal:\n",
    "            return path + [current_node]\n",
    "\n",
    "        visited = visited + [current_node]\n",
    "\n",
    "        child_nodes = graph[current_node]\n",
    "        for node in child_nodes:\n",
    "            if node not in visited:\n",
    "                if node == goal:\n",
    "                    return path + [node]\n",
    "                depth_of_node = len(path)\n",
    "                fringe.put((-depth_of_node, node, path + [node], visited))\n",
    "\n",
    "    return path\n",
    "\n",
    "\n",
    "print(dfs(graph, (1,1), (2,3)))"
   ]
  }
 ],
 "metadata": {
  "kernelspec": {
   "display_name": "Python 3",
   "language": "python",
   "name": "python3"
  },
  "language_info": {
   "codemirror_mode": {
    "name": "ipython",
    "version": 3
   },
   "file_extension": ".py",
   "mimetype": "text/x-python",
   "name": "python",
   "nbconvert_exporter": "python",
   "pygments_lexer": "ipython3",
   "version": "3.7.4"
  }
 },
 "nbformat": 4,
 "nbformat_minor": 2
}
