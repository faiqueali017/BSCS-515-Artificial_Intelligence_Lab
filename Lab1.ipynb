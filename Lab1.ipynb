{
 "cells": [
  {
   "cell_type": "markdown",
   "metadata": {},
   "source": [
    "### Q1: Write a program to create factorial of an input number."
   ]
  },
  {
   "cell_type": "code",
   "execution_count": 10,
   "metadata": {},
   "outputs": [
    {
     "name": "stdout",
     "output_type": "stream",
     "text": [
      "Enter the number: 5\n",
      "The factorial of '5' is: 120 \n"
     ]
    }
   ],
   "source": [
    "num = int(input(\"Enter the number: \"))\n",
    "factorial = 1\n",
    "\n",
    "for i in range(1, num + 1):\n",
    "    factorial = factorial * i\n",
    "print(\"The factorial of '{}' is: {} \".format(num,factorial) )"
   ]
  },
  {
   "cell_type": "markdown",
   "metadata": {},
   "source": [
    "### Q2: Write a program to calculate the volume of cylinder."
   ]
  },
  {
   "cell_type": "code",
   "execution_count": 16,
   "metadata": {},
   "outputs": [
    {
     "name": "stdout",
     "output_type": "stream",
     "text": [
      "Enter the radius of cylinder: 23.5\n",
      "Enter the height of cylinder: 5.5\n",
      "The volume of cylinder is: 9542.194986197299\n"
     ]
    }
   ],
   "source": [
    "import math as math\n",
    "\n",
    "radius = float(input(\"Enter the radius of cylinder: \"))\n",
    "height = float(input(\"Enter the height of cylinder: \"))\n",
    "\n",
    "volume = math.pi * math.pow(radius,2) * height\n",
    "print(\"The volume of cylinder is: {}\".format(volume))"
   ]
  },
  {
   "cell_type": "markdown",
   "metadata": {},
   "source": [
    "### Q3: Implement list in python. Take input characters, print them, reverse the list and print them again."
   ]
  },
  {
   "cell_type": "code",
   "execution_count": 47,
   "metadata": {},
   "outputs": [
    {
     "name": "stdout",
     "output_type": "stream",
     "text": [
      "Enter any fruit: Mango\n",
      "Enter any fruit: Banana\n",
      "\n",
      "------------------------\n",
      "The list formed is:\n",
      "Apple\n",
      "Mango\n",
      "Strawberry\n",
      "Banana\n",
      "Apricot\n",
      "\n",
      "------------------------\n",
      "The reversed list is:\n",
      "Apricot\n",
      "Banana\n",
      "Strawberry\n",
      "Mango\n",
      "Apple\n"
     ]
    }
   ],
   "source": [
    "fruits = [10]\n",
    "\n",
    "#inserting different methods in list\n",
    "fruits[0] = \"Apple\"\n",
    "fruits.append(input(\"Enter any fruit: \"))\n",
    "fruits.append(input(\"Enter any fruit: \"))\n",
    "fruits.append(\"Apricot\")\n",
    "fruits.insert(2,\"Strawberry\")\n",
    "\n",
    "#printing the list\n",
    "print(\"\\n------------------------\\nThe list formed is:\")\n",
    "for i in fruits:\n",
    "    print(i)\n",
    "\n",
    "#reversing the list\n",
    "print(\"\\n------------------------\\nThe reversed list is:\")\n",
    "def reversedList(lst):\n",
    "    lst.reverse()\n",
    "    return lst\n",
    "\n",
    "#printing the reversed list\n",
    "newList = reversedList(fruits)\n",
    "for i in newList:\n",
    "    print(i)"
   ]
  },
  {
   "cell_type": "markdown",
   "metadata": {},
   "source": [
    "### Q4: Write a program to implement dictionary(having names and numbers). Give options to i)Add & ii)Delete an item from dictionary."
   ]
  },
  {
   "cell_type": "code",
   "execution_count": 64,
   "metadata": {},
   "outputs": [
    {
     "name": "stdout",
     "output_type": "stream",
     "text": [
      "1001: Student_A\n",
      "1002: Student_B\n",
      "1003: Student_C\n",
      "1004: Student_D\n",
      "1005: Student_E\n",
      "\n",
      "\n",
      "1001: Student_A\n",
      "1002: Student_B\n",
      "1004: Student_D\n",
      "1005: Student_E\n"
     ]
    }
   ],
   "source": [
    "students = {\n",
    "    \"1001\": \"Student_A\",\n",
    "    \"1002\": \"Student_B\",\n",
    "    \"1003\": \"Student_C\"\n",
    "}\n",
    "\n",
    "#Adding items\n",
    "students[\"1004\"] = \"Student_D\"\n",
    "students[\"1005\"] = \"Student_E\"\n",
    "\n",
    "#Printing dictionary \n",
    "for each_key,each_value in students.items():\n",
    "    print(each_key + \": \" + each_value)\n",
    "    \n",
    "\n",
    "#Deleting item from dictionary \n",
    "del students[\"1003\"]\n",
    "\n",
    "\n",
    "#Printing dictionary after deletion of an item\n",
    "print(\"\\n\")\n",
    "for each_key,each_value in students.items():\n",
    "    print(each_key + \": \" + each_value)\n",
    "    "
   ]
  }
 ],
 "metadata": {
  "kernelspec": {
   "display_name": "Python 3",
   "language": "python",
   "name": "python3"
  },
  "language_info": {
   "codemirror_mode": {
    "name": "ipython",
    "version": 3
   },
   "file_extension": ".py",
   "mimetype": "text/x-python",
   "name": "python",
   "nbconvert_exporter": "python",
   "pygments_lexer": "ipython3",
   "version": "3.7.4"
  }
 },
 "nbformat": 4,
 "nbformat_minor": 2
}
