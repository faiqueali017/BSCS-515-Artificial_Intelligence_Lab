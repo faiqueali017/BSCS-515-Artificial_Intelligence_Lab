{
 "cells": [
  {
   "cell_type": "markdown",
   "metadata": {},
   "source": [
    "### Q1. The given factorial program written using logic programming paradigm Implement. "
   ]
  },
  {
   "cell_type": "code",
   "execution_count": 15,
   "metadata": {},
   "outputs": [
    {
     "name": "stdout",
     "output_type": "stream",
     "text": [
      "N  \n",
      "---\n",
      "720\n"
     ]
    }
   ],
   "source": [
    "from pyDatalog import pyDatalog\n",
    "\n",
    "pyDatalog.create_terms('factorial, N')\n",
    "\n",
    "factorial[N] = N*factorial[N-1]\n",
    "factorial[1] = 1\n",
    "\n",
    "print(factorial[6]==N) "
   ]
  },
  {
   "cell_type": "markdown",
   "metadata": {},
   "source": [
    "### Q: Practice example"
   ]
  },
  {
   "cell_type": "code",
   "execution_count": 6,
   "metadata": {},
   "outputs": [
    {
     "name": "stdout",
     "output_type": "stream",
     "text": [
      "X    \n",
      "-----\n",
      "marry\n",
      "john \n"
     ]
    }
   ],
   "source": [
    "from pyDatalog import pyDatalog as pd\n",
    "pd.create_terms('parent, bill, marry, john, ancestor, X,Y,Z')\n",
    "+parent(bill,marry)\n",
    "+parent(marry,john)\n",
    "ancestor(X,Y) <= parent(X,Y)\n",
    "ancestor(X,Y) <= parent(X,Z) & ancestor(Z,Y)\n",
    "print(ancestor(bill,X))"
   ]
  },
  {
   "cell_type": "markdown",
   "metadata": {},
   "source": [
    "### Q2. Now using the above program create your family database ‘family.py’ and store in it the facts about your family using predicates ‘mother’, ’married’, ’male’ and ‘female’\n",
    "### * mother(X,Y) is true if the mother of X is Y\n",
    "### * married(X,Y) is true if the husband of X is Y\n",
    "### * male(X) is true is X is male\n",
    "### * female(X) is true if X is female\n",
    "### Finish the program of your relatives by adding the rules for finding fathers, sisters, brothers, aunts, uncles, grandfathers and grandmothers: Test the program with different print statements. \n"
   ]
  },
  {
   "cell_type": "code",
   "execution_count": 8,
   "metadata": {},
   "outputs": [
    {
     "name": "stdout",
     "output_type": "stream",
     "text": [
      "jack is married with: Y    \n",
      "-----\n",
      "helen\n",
      "sister of james is: Y    \n",
      "-----\n",
      "lilly\n",
      "brother of lilly is: X    \n",
      "-----\n",
      "james\n",
      "grandfather of oliver is: X   \n",
      "----\n",
      "jack\n",
      "grandfather of harry is: X   \n",
      "----\n",
      "jack\n",
      "grandmother of harry is: X    \n",
      "-----\n",
      "helen\n",
      "grandmother of oliver is: X    \n",
      "-----\n",
      "helen\n",
      "james is the father of: Y     \n",
      "------\n",
      "oliver\n",
      "mother of james is X    \n",
      "-----\n",
      "helen\n",
      "mother of lilly is: X    \n",
      "-----\n",
      "helen\n",
      "father of lilly is: X   \n",
      "----\n",
      "jack\n",
      "father of james is X   \n",
      "----\n",
      "jack\n",
      "father of oliver is: X    \n",
      "-----\n",
      "james\n",
      "mother of harry is: X    \n",
      "-----\n",
      "lilly\n",
      "childrens of helen are: Y    \n",
      "-----\n",
      "james\n",
      "lilly\n",
      "jack is the ancestor of: X     \n",
      "------\n",
      "lilly \n",
      "james \n",
      "harry \n",
      "oliver\n",
      "lilly is the ancestor of: X    \n",
      "-----\n",
      "harry\n",
      "helen is the ancestor of: X     \n",
      "------\n",
      "lilly \n",
      "james \n",
      "harry \n",
      "oliver\n"
     ]
    }
   ],
   "source": [
    "from pyDatalog import pyDatalog\n",
    "\n",
    "pyDatalog.create_terms(\"jack,james,lilly,helen,oliver,harry,male,female,parent,X,Y,F,M,Z\")\n",
    "pyDatalog.create_terms(\"father,mother,sister,brother,grandfather,grandmother,married,ancestor,aunt\")\n",
    "\n",
    "# facts\n",
    "+male(jack)\n",
    "+male(james)\n",
    "+male(harry)\n",
    "+female(lilly)\n",
    "+female(helen)\n",
    "+female(oliver)\n",
    "\n",
    "+married(jack,helen)\n",
    "+parent(jack,james)\n",
    "+parent(jack,lilly)\n",
    "+parent(helen,james)\n",
    "+parent(helen,lilly)\n",
    "+parent(james,oliver)\n",
    "+parent(lilly,harry)\n",
    "\n",
    "# Rules\n",
    "father(X,Y) <= male(X) & parent(X,Y)\n",
    "mother(X,Y) <= female(X) & parent(X,Y)\n",
    "grandfather(X,Y) <= male(X) & parent(X,Z) & parent(Z,Y)\n",
    "grandmother(X,Y) <= female(X) & parent(X,Z) & parent(Z,Y)\n",
    "ancestor(X,Y) <= parent(X,Y)\n",
    "ancestor(X,Y) <= parent(X,Z) & ancestor(Z,Y)\n",
    "\n",
    "sister(X,Y) <= female(X) & father(F, Y) & father(F,X)\n",
    "sister(X,Y) <= female(X) & mother(M, Y) & mother(M,X)\n",
    "brother(X,Y) <= male(X) & mother(M,X) & mother(M,Y)\n",
    "brother(X,Y) <= male(X) & father(F,X) & father(F,Y)\n",
    "\n",
    "# Rules Validation\n",
    "print(\"jack is married with:\",married(jack,Y))\n",
    "print(\"sister of james is:\",sister(Y,james))\n",
    "print(\"brother of lilly is:\",brother(X,lilly))\n",
    "print(\"grandfather of oliver is:\",grandfather(X,oliver))\n",
    "print(\"grandfather of harry is:\",grandfather(X,harry))\n",
    "print(\"grandmother of harry is:\",grandmother(X,harry))\n",
    "print(\"grandmother of oliver is:\",grandmother(X,oliver))\n",
    "print(\"james is the father of:\",father(james,Y))\n",
    "print(\"mother of james is\",mother(X,james))\n",
    "print(\"mother of lilly is:\",mother(X,lilly))\n",
    "print(\"father of lilly is:\",father(X,lilly))\n",
    "print(\"father of james is\",father(X,james))\n",
    "print(\"father of oliver is:\",father(X,oliver))\n",
    "print(\"mother of harry is:\",mother(X,harry))\n",
    "print(\"childrens of helen are:\",mother(helen,Y))\n",
    "print(\"jack is the ancestor of:\",ancestor(jack,X))\n",
    "print(\"lilly is the ancestor of:\",ancestor(lilly,X))\n",
    "print(\"helen is the ancestor of:\",ancestor(helen,X))"
   ]
  },
  {
   "cell_type": "markdown",
   "metadata": {},
   "source": [
    "### Q3. Write a pyDatalog program which stores the facts about square root and returns the square root of a number using the facts. "
   ]
  },
  {
   "cell_type": "code",
   "execution_count": 10,
   "metadata": {},
   "outputs": [],
   "source": [
    "from pyDatalog import pyDatalog as pd\n",
    "from math import sqrt"
   ]
  },
  {
   "cell_type": "code",
   "execution_count": 11,
   "metadata": {},
   "outputs": [
    {
     "data": {
      "text/plain": [
       "squares(X,Y) <= _pyD_in(X,'['0', '1', '2', '3', '4"
      ]
     },
     "execution_count": 11,
     "metadata": {},
     "output_type": "execute_result"
    }
   ],
   "source": [
    "pd.create_terms('squares,X,Y,sqrt')\n",
    "squares(X,Y) <= ((X.in_(range(10))) &\n",
    "                 (Y== sqrt(X)) &\n",
    "                 (Y<3))"
   ]
  },
  {
   "cell_type": "code",
   "execution_count": 12,
   "metadata": {},
   "outputs": [
    {
     "name": "stdout",
     "output_type": "stream",
     "text": [
      "X | Y                 \n",
      "--|-------------------\n",
      "8 | 2.8284271247461903\n",
      "7 | 2.6457513110645907\n",
      "6 | 2.449489742783178 \n",
      "5 | 2.23606797749979  \n",
      "4 | 2.0               \n",
      "3 | 1.7320508075688772\n",
      "2 | 1.4142135623730951\n",
      "1 | 1.0               \n",
      "0 | 0.0               \n"
     ]
    }
   ],
   "source": [
    "print(squares(X,Y))"
   ]
  },
  {
   "cell_type": "code",
   "execution_count": 13,
   "metadata": {},
   "outputs": [
    {
     "name": "stdout",
     "output_type": "stream",
     "text": [
      "Y                 \n",
      "------------------\n",
      "1.7320508075688772\n"
     ]
    }
   ],
   "source": [
    "print(squares(3,Y))\n"
   ]
  },
  {
   "cell_type": "code",
   "execution_count": 14,
   "metadata": {},
   "outputs": [
    {
     "name": "stdout",
     "output_type": "stream",
     "text": [
      "X\n",
      "-\n",
      "4\n"
     ]
    }
   ],
   "source": [
    "print(squares(X,2))"
   ]
  }
 ],
 "metadata": {
  "kernelspec": {
   "display_name": "Python 3",
   "language": "python",
   "name": "python3"
  },
  "language_info": {
   "codemirror_mode": {
    "name": "ipython",
    "version": 3
   },
   "file_extension": ".py",
   "mimetype": "text/x-python",
   "name": "python",
   "nbconvert_exporter": "python",
   "pygments_lexer": "ipython3",
   "version": "3.7.4"
  }
 },
 "nbformat": 4,
 "nbformat_minor": 2
}
