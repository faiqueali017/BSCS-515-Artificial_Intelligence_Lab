{
 "cells": [
  {
   "cell_type": "markdown",
   "metadata": {},
   "source": [
    "### Q1. Implementing the Transportation Problem:\n",
    "#### Scenario: Street with blocks numbered 1 to n. Walking from s to s+ 1takes 1 minute. Taking a magic Tram from s to 2s takes 2 minutes. How to travel from 1 to n in the least time"
   ]
  },
  {
   "cell_type": "code",
   "execution_count": 5,
   "metadata": {},
   "outputs": [
    {
     "name": "stdout",
     "output_type": "stream",
     "text": [
      "['Starting from 1', 'Take one step to 2', 'Take a magic tramp to 4', 'Take a magic tramp to 8', 'Take one step to 9', 'Take a magic tramp to 18']\n",
      "Minutes taken = 8\n"
     ]
    }
   ],
   "source": [
    "class TransportionProblem:\n",
    "    def __init__(self,N):\n",
    "            self.N = N\n",
    "    # def one_Step():\n",
    "    # def magic_Tramp():                \n",
    "    def succAndCost(self):\n",
    "        state=self.N\n",
    "        actions=[int(state)]\n",
    "        minutes=0\n",
    "        while(state!=1):\n",
    "            if(state==2):\n",
    "                state=state-1\n",
    "                minutes=minutes+1\n",
    "                actions.append(int(state))\n",
    "            elif(state%2>0):\n",
    "                state=state-1\n",
    "                actions.append(int(state))\n",
    "                minutes=minutes+1\n",
    "            else:\n",
    "                state=state/2\n",
    "                actions.append(int(state))\n",
    "                minutes=minutes+2\n",
    "        actions.reverse()\n",
    "        for i in range(0,len(actions),1):\n",
    "            if(actions[i]==1):\n",
    "                actions[i]=\"Starting from \"+str(actions[i])\n",
    "            elif(actions[i]==2):\n",
    "                actions[i]=\"Take one step to \"+str(actions[i])    \n",
    "            elif((actions[i]%2>0)):\n",
    "                actions[i]=\"Take one step to \"+str(actions[i])\n",
    "            else:\n",
    "               actions[i]=\"Take a magic tramp to \"+str(actions[i])    \n",
    "        result=(actions,minutes)      #stored in tuple                   \n",
    "        return result        \n",
    "#Class end       \n",
    "                   \n",
    "obj = TransportionProblem(18) #object\n",
    "action,minutes=obj.succAndCost()  #unpacking tuple \n",
    "print(action)\n",
    "print(\"Minutes taken = \"+str(minutes))"
   ]
  },
  {
   "cell_type": "markdown",
   "metadata": {},
   "source": [
    "### Q2. Implement the A* search"
   ]
  },
  {
   "cell_type": "code",
   "execution_count": 9,
   "metadata": {},
   "outputs": [
    {
     "name": "stdout",
     "output_type": "stream",
     "text": [
      "route [(4, 4), (3, 3), (2, 2), (3, 1), (4, 1), (5, 1), (6, 2), (7, 3), (6, 4), (7, 5), (6, 6)]\n",
      "cost 10\n"
     ]
    },
    {
     "data": {
      "image/png": "[encoded data removed]",
      "text/plain": [
       "<Figure size 432x288 with 1 Axes>"
      ]
     },
     "metadata": {
      "needs_background": "light"
     },
     "output_type": "display_data"
    }
   ],
   "source": [
    "from __future__ import print_function\n",
    "import matplotlib.pyplot as plt\n",
    " \n",
    "class AStarGraph(object):\n",
    "    #Define a class board like grid with two barriers\n",
    " \n",
    "    def __init__(self):\n",
    "        self.barriers = []\n",
    "        self.barriers.append([(2,4),(2,5),(2,6),(3,6),(4,6),(5,6),(5,5),(5,4),(5,3),(5,2),(4,2),(3,2)])\n",
    " \n",
    "    def heuristic(self, start, goal):\n",
    "        #Use Chebyshev distance heuristic if we can move one square either\n",
    "        #adjacent or diagonal\n",
    "        D = 1\n",
    "        D2 = 1\n",
    "        dx = abs(start[0] - goal[0])\n",
    "        dy = abs(start[1] - goal[1])\n",
    "        return D * (dx + dy) + (D2 - 2 * D) * min(dx, dy)\n",
    " \n",
    "    def get_vertex_neighbours(self, pos):\n",
    "        n = []\n",
    "        #Moves allow link a chess king\n",
    "        for dx, dy in [(1,0),(-1,0),(0,1),(0,-1),(1,1),(-1,1),(1,-1),(-1,-1)]:\n",
    "            x2 = pos[0] + dx\n",
    "            y2 = pos[1] + dy\n",
    "            if x2 < 0 or x2 > 7 or y2 < 0 or y2 > 7:\n",
    "                continue\n",
    "            n.append((x2, y2))\n",
    "        return n\n",
    " \n",
    "    def move_cost(self, a, b):\n",
    "        for barrier in self.barriers:\n",
    "            if b in barrier:\n",
    "                return 100 #Extremely high cost to enter barrier squares\n",
    "        return 1 #Normal movement cost\n",
    " \n",
    "def AStarSearch(start, end, graph):\n",
    " \n",
    "    G = {} #Actual movement cost to each position from the start position\n",
    "    F = {} #Estimated movement cost of start to end going via this position\n",
    " \n",
    "    #Initialize starting values\n",
    "    G[start] = 0 \n",
    "    F[start] = graph.heuristic(start, end)\n",
    " \n",
    "    closedVertices = set()\n",
    "    openVertices = set([start])\n",
    "    cameFrom = {}\n",
    " \n",
    "    while len(openVertices) > 0:\n",
    "        #Get the vertex in the open list with the lowest F score\n",
    "        current = None\n",
    "        currentFscore = None\n",
    "        for pos in openVertices:\n",
    "            if current is None or F[pos] < currentFscore:\n",
    "                currentFscore = F[pos]\n",
    "                current = pos\n",
    " \n",
    "        #Check if we have reached the goal\n",
    "        if current == end:\n",
    "            #Retrace our route backward\n",
    "            path = [current]\n",
    "            while current in cameFrom:\n",
    "                current = cameFrom[current]\n",
    "                path.append(current)\n",
    "            path.reverse()\n",
    "            return path, F[end] #Done!\n",
    " \n",
    "        #Mark the current vertex as closed\n",
    "        openVertices.remove(current)\n",
    "        closedVertices.add(current)\n",
    " \n",
    "        #Update scores for vertices near the current position\n",
    "        for neighbour in graph.get_vertex_neighbours(current):\n",
    "            if neighbour in closedVertices: \n",
    "                continue #We have already processed this node exhaustively\n",
    "            candidateG = G[current] + graph.move_cost(current, neighbour)\n",
    " \n",
    "            if neighbour not in openVertices:\n",
    "                openVertices.add(neighbour) #Discovered a new vertex\n",
    "            elif candidateG >= G[neighbour]:\n",
    "                continue #This G score is worse than previously found\n",
    " \n",
    "            #Adopt this G score\n",
    "            cameFrom[neighbour] = current\n",
    "            G[neighbour] = candidateG\n",
    "            H = graph.heuristic(neighbour, end)\n",
    "            F[neighbour] = G[neighbour] + H\n",
    " \n",
    "    raise RuntimeError(\"A* failed to find a solution\")\n",
    " \n",
    "if __name__==\"__main__\":\n",
    "    graph = AStarGraph()\n",
    "    result, cost = AStarSearch((4,4), (6,6), graph)\n",
    "    print (\"route\", result)\n",
    "    print (\"cost\", cost)\n",
    "    plt.plot([v[0] for v in result], [v[1] for v in result])\n",
    "    for barrier in graph.barriers:\n",
    "        plt.plot([v[0] for v in barrier], [v[1] for v in barrier])\n",
    "    plt.xlim(-1,8)\n",
    "    plt.ylim(-1,8)\n",
    "    plt.show()\n"
   ]
  },
  {
   "cell_type": "code",
   "execution_count": null,
   "metadata": {},
   "outputs": [],
   "source": []
  }
 ],
 "metadata": {
  "kernelspec": {
   "display_name": "Python 3",
   "language": "python",
   "name": "python3"
  },
  "language_info": {
   "codemirror_mode": {
    "name": "ipython",
    "version": 3
   },
   "file_extension": ".py",
   "mimetype": "text/x-python",
   "name": "python",
   "nbconvert_exporter": "python",
   "pygments_lexer": "ipython3",
   "version": "3.7.4"
  }
 },
 "nbformat": 4,
 "nbformat_minor": 2
}
